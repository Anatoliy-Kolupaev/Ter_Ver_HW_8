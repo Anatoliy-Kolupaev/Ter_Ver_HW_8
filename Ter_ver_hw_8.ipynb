{
 "cells": [
  {
   "cell_type": "markdown",
   "id": "31daa69f",
   "metadata": {},
   "source": [
    "Задача №1  \n",
    "Даны значения величины заработной платы заемщиков банка (zp) и значения их поведенческого \n",
    "кредитного скоринга (ks):\n",
    "\n",
    "zp = [35, 45, 190, 200, 40, 70, 54, 150, 120, 110],\n",
    "\n",
    "ks = [401, 574, 874, 919, 459, 739, 653, 902, 746, 832].\n",
    "\n",
    "Найдите ковариацию этих двух величин с помощью элементарных действий, а затем с помощью функции cov из numpy\n",
    "\n",
    "Полученные значения должны быть равны.\n"
   ]
  },
  {
   "cell_type": "code",
   "execution_count": 49,
   "id": "8890935a",
   "metadata": {},
   "outputs": [
    {
     "data": {
      "text/plain": [
       "9157.839999999997"
      ]
     },
     "execution_count": 49,
     "metadata": {},
     "output_type": "execute_result"
    }
   ],
   "source": [
    "import numpy as np\n",
    "\n",
    "zp = np.array([35, 45, 190, 200, 40, 70, 54, 150, 120, 110])\n",
    "ks = np.array([401, 574, 874, 919, 459, 739, 653, 902, 746, 832])\n",
    "cov = np.mean(zp * ks) - np.mean(zp) * np.mean(ks)\n",
    "cov"
   ]
  },
  {
   "cell_type": "code",
   "execution_count": 50,
   "id": "3b030445",
   "metadata": {},
   "outputs": [
    {
     "data": {
      "text/plain": [
       "array([[ 3494.64,  9157.84],\n",
       "       [ 9157.84, 30468.89]])"
      ]
     },
     "execution_count": 50,
     "metadata": {},
     "output_type": "execute_result"
    }
   ],
   "source": [
    "cov0 = np.cov(zp, ks, ddof = 0)\n",
    "cov0"
   ]
  },
  {
   "cell_type": "markdown",
   "id": "e3181409",
   "metadata": {},
   "source": [
    "Найдите коэффициент корреляции Пирсона с помощью ковариации и среднеквадратичных отклонений двух признаков, а затем с использованием функций из библиотек numpy и pandas."
   ]
  },
  {
   "cell_type": "markdown",
   "id": "04fb1ccc",
   "metadata": {},
   "source": [
    "Для смещенной ковариации:"
   ]
  },
  {
   "cell_type": "code",
   "execution_count": 51,
   "id": "5a90008e",
   "metadata": {},
   "outputs": [
    {
     "data": {
      "text/plain": [
       "0.8874900920739162"
      ]
     },
     "execution_count": 51,
     "metadata": {},
     "output_type": "execute_result"
    }
   ],
   "source": [
    "zp0 = np.std(zp, ddof = 0)\n",
    "ks0 = np.std(ks, ddof = 0)\n",
    "r0 = 9157.84/(zp0 * ks0)\n",
    "r0"
   ]
  },
  {
   "cell_type": "markdown",
   "id": "5ec11578",
   "metadata": {},
   "source": [
    "Для несмещенной ковариации:"
   ]
  },
  {
   "cell_type": "code",
   "execution_count": 52,
   "id": "419d5eae",
   "metadata": {},
   "outputs": [
    {
     "data": {
      "text/plain": [
       "array([[ 3882.93333333, 10175.37777778],\n",
       "       [10175.37777778, 33854.32222222]])"
      ]
     },
     "execution_count": 52,
     "metadata": {},
     "output_type": "execute_result"
    }
   ],
   "source": [
    "cov1 = np.cov(zp, ks, ddof = 1)\n",
    "cov1"
   ]
  },
  {
   "cell_type": "code",
   "execution_count": 53,
   "id": "64df80d5",
   "metadata": {},
   "outputs": [
    {
     "data": {
      "text/plain": [
       "0.88749009207411"
      ]
     },
     "execution_count": 53,
     "metadata": {},
     "output_type": "execute_result"
    }
   ],
   "source": [
    "zp1 = np.std(zp, ddof = 1)\n",
    "ks1 = np.std(ks, ddof = 1)\n",
    "r1 = 10175.37777778/(zp1 * ks1)\n",
    "r1"
   ]
  },
  {
   "cell_type": "markdown",
   "id": "47fa7d8e",
   "metadata": {},
   "source": [
    " С использованием функции:"
   ]
  },
  {
   "cell_type": "code",
   "execution_count": 54,
   "id": "d2ca5ee9",
   "metadata": {},
   "outputs": [
    {
     "data": {
      "text/plain": [
       "array([[1.        , 0.88749009],\n",
       "       [0.88749009, 1.        ]])"
      ]
     },
     "execution_count": 54,
     "metadata": {},
     "output_type": "execute_result"
    }
   ],
   "source": [
    "R = np.corrcoef(zp, ks)\n",
    "R"
   ]
  },
  {
   "cell_type": "code",
   "execution_count": 55,
   "id": "ea44691c",
   "metadata": {},
   "outputs": [
    {
     "data": {
      "text/plain": [
       "0.8874900920739163"
      ]
     },
     "execution_count": 55,
     "metadata": {},
     "output_type": "execute_result"
    }
   ],
   "source": [
    "import pandas as pd\n",
    "\n",
    "arr = pd.DataFrame({'q': [35, 45, 190, 200, 40, 70, 54, 150, 120, 110],\n",
    " 'w': [401, 574, 874, 919, 459, 739, 653, 902, 746, 832]})\n",
    "\n",
    "arr['q']. corr(arr['w'])"
   ]
  },
  {
   "cell_type": "markdown",
   "id": "fdda0383",
   "metadata": {},
   "source": [
    "Задача №2  \n",
    "Измерены значения IQ выборки студентов, обучающихся в местных технических вузах:\n",
    "\n",
    "131, 125, 115, 122, 131, 115, 107, 99, 125, 111.\n",
    "\n",
    "Известно, что в генеральной совокупности IQ распределен нормально.\n",
    "\n",
    "Найдите доверительный интервал для математического ожидания с надежностью 0.95."
   ]
  },
  {
   "cell_type": "markdown",
   "id": "17d23dd9",
   "metadata": {},
   "source": [
    "Находим среднее значение выборки:"
   ]
  },
  {
   "cell_type": "code",
   "execution_count": 56,
   "id": "fa43c1b4",
   "metadata": {},
   "outputs": [
    {
     "data": {
      "text/plain": [
       "118.1"
      ]
     },
     "execution_count": 56,
     "metadata": {},
     "output_type": "execute_result"
    }
   ],
   "source": [
    "import scipy.stats as st\n",
    "x = np.array([131, 125, 115, 122, 131, 115, 107, 99, 125, 111])\n",
    "sr = np.mean(x)\n",
    "sr"
   ]
  },
  {
   "cell_type": "markdown",
   "id": "33da9f15",
   "metadata": {},
   "source": [
    "Рассчитываем сигму по выборке:"
   ]
  },
  {
   "cell_type": "code",
   "execution_count": 57,
   "id": "9e92a3a6",
   "metadata": {},
   "outputs": [
    {
     "data": {
      "text/plain": [
       "10.54566788359614"
      ]
     },
     "execution_count": 57,
     "metadata": {},
     "output_type": "execute_result"
    }
   ],
   "source": [
    "mu = np.std(x, ddof=1)\n",
    "mu"
   ]
  },
  {
   "cell_type": "markdown",
   "id": "3b9acfe8",
   "metadata": {},
   "source": [
    "Находим t - критерий:"
   ]
  },
  {
   "cell_type": "code",
   "execution_count": 58,
   "id": "7ccf28da",
   "metadata": {},
   "outputs": [
    {
     "data": {
      "text/plain": [
       "2.2621571627409915"
      ]
     },
     "execution_count": 58,
     "metadata": {},
     "output_type": "execute_result"
    }
   ],
   "source": [
    "t = st.t.ppf(0.975, len(x)-1)\n",
    "t"
   ]
  },
  {
   "cell_type": "code",
   "execution_count": 59,
   "id": "989062e5",
   "metadata": {},
   "outputs": [
    {
     "data": {
      "text/plain": [
       "[110.55608365158724, 125.64391634841274]"
      ]
     },
     "execution_count": 59,
     "metadata": {},
     "output_type": "execute_result"
    }
   ],
   "source": [
    "[sr - t * (mu/(len(x)**0.5)), sr + t * (mu/(len(x)**0.5))]"
   ]
  },
  {
   "cell_type": "markdown",
   "id": "9d31b074",
   "metadata": {},
   "source": [
    " Доверительный интервал для математического ожидания с надежностью 0.95 от 110.55608365158724 до 125.64391634841274"
   ]
  },
  {
   "cell_type": "markdown",
   "id": "e647b863",
   "metadata": {},
   "source": [
    "Задача №3  \n",
    "Известно, что рост футболистов в сборной распределен нормально с дисперсией генеральной совокупности, равной 25 кв.см. Объем выборки равен 27, среднее выборочное составляет 174.2. Найдите доверительный интервал для математического ожидания с надежностью 0.95."
   ]
  },
  {
   "cell_type": "code",
   "execution_count": 60,
   "id": "3ffdacaf",
   "metadata": {},
   "outputs": [],
   "source": [
    "my = 25**0.5\n",
    "i = 27\n",
    "sr1 =174.2"
   ]
  },
  {
   "cell_type": "markdown",
   "id": "184acd98",
   "metadata": {},
   "source": [
    "Находим z - критерий:"
   ]
  },
  {
   "cell_type": "code",
   "execution_count": 61,
   "id": "4ea0498f",
   "metadata": {},
   "outputs": [
    {
     "data": {
      "text/plain": [
       "1.959963984540054"
      ]
     },
     "execution_count": 61,
     "metadata": {},
     "output_type": "execute_result"
    }
   ],
   "source": [
    "z = st.norm.ppf(0.975)\n",
    "z"
   ]
  },
  {
   "cell_type": "code",
   "execution_count": 62,
   "id": "a05cf495",
   "metadata": {},
   "outputs": [
    {
     "data": {
      "text/plain": [
       "[172.3140237765397, 183.99981992270025]"
      ]
     },
     "execution_count": 62,
     "metadata": {},
     "output_type": "execute_result"
    }
   ],
   "source": [
    "[sr1-z*(my/(i**0.5)), sr1+z*(my/(i**0.5))]"
   ]
  },
  {
   "cell_type": "markdown",
   "id": "7f263baf",
   "metadata": {},
   "source": [
    " Доверительный интервал для математического ожидания с надежностью 0.95 от 172.3140237765397 до 183.99981992270025"
   ]
  }
 ],
 "metadata": {
  "kernelspec": {
   "display_name": "Python 3 (ipykernel)",
   "language": "python",
   "name": "python3"
  },
  "language_info": {
   "codemirror_mode": {
    "name": "ipython",
    "version": 3
   },
   "file_extension": ".py",
   "mimetype": "text/x-python",
   "name": "python",
   "nbconvert_exporter": "python",
   "pygments_lexer": "ipython3",
   "version": "3.9.13"
  }
 },
 "nbformat": 4,
 "nbformat_minor": 5
}
